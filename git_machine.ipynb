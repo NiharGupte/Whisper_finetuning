{
  "nbformat": 4,
  "nbformat_minor": 0,
  "metadata": {
    "colab": {
      "provenance": []
    },
    "kernelspec": {
      "name": "python3",
      "display_name": "Python 3"
    },
    "language_info": {
      "name": "python"
    }
  },
  "cells": [
    {
      "cell_type": "markdown",
      "source": [
        "Clone the following github repo"
      ],
      "metadata": {
        "id": "7q7KmdaTMHOL"
      }
    },
    {
      "cell_type": "code",
      "execution_count": null,
      "metadata": {
        "id": "RgRaatlpDpAj"
      },
      "outputs": [],
      "source": [
        "!git clone https://github.com/NiharGupte/Whisper_finetuning.git"
      ]
    },
    {
      "cell_type": "markdown",
      "source": [
        "Install the requirements"
      ],
      "metadata": {
        "id": "wNFjBOcQMK1I"
      }
    },
    {
      "cell_type": "code",
      "source": [
        "!pip install -r Whisper_finetuning/requirements.txt"
      ],
      "metadata": {
        "id": "X7z-_3SND55l"
      },
      "execution_count": null,
      "outputs": []
    },
    {
      "cell_type": "markdown",
      "source": [
        "Change current working directory"
      ],
      "metadata": {
        "id": "iy4I1PNQMNI5"
      }
    },
    {
      "cell_type": "code",
      "source": [
        "%cd Whisper_finetuning"
      ],
      "metadata": {
        "id": "JinTcslbD6qr"
      },
      "execution_count": null,
      "outputs": []
    },
    {
      "cell_type": "markdown",
      "source": [
        "## Note :     \n",
        "\n",
        "Please open the main.py in the Whisper_finetuning folder, by double-clicking, this will open main.py in colab's inbuilt editor, now go to model_list and keep only one of the three elements, and do the same for dir_list. Example : if you keep \"openai/whisper-base\", keep \"base\" in dir_list, and remove the other two from both the lists"
      ],
      "metadata": {
        "id": "iEcm0T1YEAOz"
      }
    },
    {
      "cell_type": "markdown",
      "source": [
        "Run the main file and then download the model_comp.txt"
      ],
      "metadata": {
        "id": "4XImuuKjEfqT"
      }
    },
    {
      "cell_type": "code",
      "source": [
        "!python main.py"
      ],
      "metadata": {
        "id": "DbFY3zp1D9pF"
      },
      "execution_count": null,
      "outputs": []
    }
  ]
}